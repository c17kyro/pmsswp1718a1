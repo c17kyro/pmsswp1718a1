{
 "cells": [
  {
   "cell_type": "markdown",
   "metadata": {},
   "source": [
    "# Notebook για την παραγωγή των δεδομένων N-Triples (εργασία μαθήματος).\n",
    "\n",
    "Χρησιμοποιήστε κώδικα από τα notebooks προηγούμενων εργαστηρίων με τις κατάλληλες αλλαγές για να συμπληρώσετε το ζητούμενο αρχείο `schedule-data.nt` της εργασίας του μαθήματος. Μην ξεχάσετε να εισάγετε τις τριάδες με το κατηγόρημα `rdf:type`!\n",
    "\n",
    "Προσθέστε τον κώδικά σας στα επόμενα κελιά."
   ]
  },
  {
   "cell_type": "code",
   "execution_count": null,
   "metadata": {
    "collapsed": true
   },
   "outputs": [],
   "source": [
    "# φορτώστε τις τριάδες από το αρχείο csv σε μια λίστα\n",
    "triples_list=[]\n",
    "import csv\n",
    "with open('triples_new.csv','r',newline='',encoding='utf-8') as myCSVFile:\n",
    "    myReader=csv.reader(myCSVFile)\n",
    "    for i in myReader:\n",
    "        triples_list.append(i)\n",
    "# εφαρμόστε τις μετατροπές φτιάχνοντας μια νέα λίστα τριάδων\n",
    "triples_final=[]\n",
    "for element1,element2,element3 in triples_list:\n",
    "    element2='<'+element2+'>'\n",
    "    if element2=='<http://dilab77.ionio.gr/swp/c17kyro/vocab#Ημέρα>':\n",
    "        element3='\"'+element3+'\"'\n",
    "        triples_final.append([element1,'<http://www.w3.org/1999/02/22-rdf-syntax-ns#type>','<http://dilab77.ionio.gr/swp/c17kyro/vocab#Ημέρα>'])\n",
    "    elif element2=='<http://dilab77.ionio.gr/swp/c17kyro/vocab#Έναρξη>' or element2=='<http://dilab77.ionio.gr/swp/c17kyro/vocab#Λήξη>':\n",
    "        element3=element3[:-3]\n",
    "        element3='\"'+element3+':00:00\"^^<http://www.w3.org/2001/XMLSchema#time>'\n",
    "    elif element2=='<http://dilab77.ionio.gr/swp/c17kyro/vocab#Καθηγητής>':\n",
    "        element3='<'+element3+'>'\n",
    "        triples_final.append([element3,'<http://www.w3.org/1999/02/22-rdf-syntax-ns#type>','<http://dilab77.ionio.gr/swp/c17kyro/vocab#Didaskon>'])\n",
    "    elif element2=='<http://dilab77.ionio.gr/swp/c17kyro/vocab#Μάθημα>':\n",
    "        element3='<'+element3+'>'\n",
    "        triples_final.append([element3,'<http://www.w3.org/1999/02/22-rdf-syntax-ns#type>','<http://dilab77.ionio.gr/swp/c17kyro/vocab#Mathima>'])\n",
    "    elif element2=='<http://dilab77.ionio.gr/swp/c17kyro/vocab#Αίθουσα>':\n",
    "        element3='<'+element3+'>'\n",
    "        triples_final.append([element3,'<http://www.w3.org/1999/02/22-rdf-syntax-ns#type>','<http://dilab77.ionio.gr/swp/c17kyro/vocab#Aithousa>'])\n",
    "    else:\n",
    "        element3='<'+element3+'>'\n",
    "    triples_final.append([element1,element2,element3])\n",
    "for i in triples_final:\n",
    "    print(i)\n",
    "    \n",
    "with open('shcedule-data.nt','w',newline='',encoding='utf-8')as myCSVFile:\n",
    "    for element1,element2,element3 in triples_final:\n",
    "        myCSVFile.write(element1+' '+element2+' '+element3+'.'+'\\n')\n"
   ]
  }
 ],
 "metadata": {
  "kernelspec": {
   "display_name": "Python 3",
   "language": "python",
   "name": "python3"
  },
  "language_info": {
   "codemirror_mode": {
    "name": "ipython",
    "version": 3
   },
   "file_extension": ".py",
   "mimetype": "text/x-python",
   "name": "python",
   "nbconvert_exporter": "python",
   "pygments_lexer": "ipython3",
   "version": "3.6.4"
  }
 },
 "nbformat": 4,
 "nbformat_minor": 1
}
