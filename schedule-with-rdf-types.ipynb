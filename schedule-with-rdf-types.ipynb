{
 "cells": [
  {
   "cell_type": "markdown",
   "metadata": {},
   "source": [
    "# Notebook για την παραγωγή των δεδομένων N-Triples (εργασία μαθήματος).\n",
    "\n",
    "Χρησιμοποιήστε κώδικα από τα notebooks προηγούμενων εργαστηρίων με τις κατάλληλες αλλαγές για να συμπληρώσετε το ζητούμενο αρχείο `schedule-data.nt` της εργασίας του μαθήματος. Μην ξεχάσετε να εισάγετε τις τριάδες με το κατηγόρημα `rdf:type`!\n",
    "\n",
    "Προσθέστε τον κώδικά σας στα επόμενα κελιά."
   ]
  },
  {
   "cell_type": "code",
   "execution_count": null,
   "metadata": {
    "collapsed": true
   },
   "outputs": [],
   "source": []
  }
 ],
 "metadata": {
  "kernelspec": {
   "display_name": "Python 3",
   "language": "python",
   "name": "python3"
  },
  "language_info": {
   "codemirror_mode": {
    "name": "ipython",
    "version": 3
   },
   "file_extension": ".py",
   "mimetype": "text/x-python",
   "name": "python",
   "nbconvert_exporter": "python",
   "pygments_lexer": "ipython3",
   "version": "3.4.4"
  }
 },
 "nbformat": 4,
 "nbformat_minor": 0
}
# φορτώστε τις τριάδες από το αρχείο csv σε μια λίστα
triples_list=[]
import csv
with open('triples_new.csv','r',newline='',encoding='utf-8') as myCSVFile:
    myReader=csv.reader(myCSVFile)
    for i in myReader:
        triples_list.append(i)
# εφαρμόστε τις μετατροπές φτιάχνοντας μια νέα λίστα τριάδων
triples_final=[]
for element1,element2,element3 in triples_list:
    element2='<'+element2+'>'
    if element2=='<http://dilab77.ionio.gr/swp/c17kyro/vocab#Ημέρα>':
        element3='"'+element3+'"'
        triples_final.append([element1,'<http://www.w3.org/1999/02/22-rdf-syntax-ns#type>','<http://dilab77.ionio.gr/swp/c17kyro/vocab#Ημέρα>'])
    elif element2=='<http://dilab77.ionio.gr/swp/c17kyro/vocab#Έναρξη>' or element2=='<http://dilab77.ionio.gr/swp/c17kyro/vocab#Λήξη>':
        element3=element3[:-3]
        element3='"'+element3+':00:00"^^<http://www.w3.org/2001/XMLSchema#time>'
    elif element2=='<http://dilab77.ionio.gr/swp/c17kyro/vocab#Καθηγητής>':
        element3='<'+element3+'>'
        triples_final.append([element3,'<http://www.w3.org/1999/02/22-rdf-syntax-ns#type>','<http://dilab77.ionio.gr/swp/c17kyro/vocab#Didaskon>'])
    elif element2=='<http://dilab77.ionio.gr/swp/c17kyro/vocab#Μάθημα>':
        element3='<'+element3+'>'
        triples_final.append([element3,'<http://www.w3.org/1999/02/22-rdf-syntax-ns#type>','<http://dilab77.ionio.gr/swp/c17kyro/vocab#Mathima>'])
    elif element2=='<http://dilab77.ionio.gr/swp/c17kyro/vocab#Αίθουσα>':
        element3='<'+element3+'>'
        triples_final.append([element3,'<http://www.w3.org/1999/02/22-rdf-syntax-ns#type>','<http://dilab77.ionio.gr/swp/c17kyro/vocab#Aithousa>'])
    else:
        element3='<'+element3+'>'
    triples_final.append([element1,element2,element3])
for i in triples_final:
    print(i)
    
with open('shcedule-data.nt','w',newline='',encoding='utf-8')as myCSVFile:
    for element1,element2,element3 in triples_final:
        myCSVFile.write(element1+' '+element2+' '+element3+'.'+'\n')

